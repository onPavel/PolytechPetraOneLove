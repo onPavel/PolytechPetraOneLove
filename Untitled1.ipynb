{
  "nbformat": 4,
  "nbformat_minor": 0,
  "metadata": {
    "colab": {
      "provenance": [],
      "authorship_tag": "ABX9TyNj2ByFfwnNy2VamyTj66Mr",
      "include_colab_link": true
    },
    "kernelspec": {
      "name": "python3",
      "display_name": "Python 3"
    },
    "language_info": {
      "name": "python"
    }
  },
  "cells": [
    {
      "cell_type": "markdown",
      "metadata": {
        "id": "view-in-github",
        "colab_type": "text"
      },
      "source": [
        "<a href=\"https://colab.research.google.com/github/onPavel/PolytechPetraOneLove/blob/main/Untitled1.ipynb\" target=\"_parent\"><img src=\"https://colab.research.google.com/assets/colab-badge.svg\" alt=\"Open In Colab\"/></a>"
      ]
    },
    {
      "cell_type": "code",
      "execution_count": null,
      "metadata": {
        "id": "EMdJOd_c1kPx"
      },
      "outputs": [],
      "source": [
        "login = input()\n",
        "password = input()\n",
        "if login == \"student\" and password == \"0000\":\n",
        "    print(\"Вход разрешен!\")\n",
        "else:\n",
        "    print(\"Ошибка. Вход запрещен\")\n"
      ]
    }
  ]
}